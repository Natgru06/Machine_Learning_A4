{
 "cells": [
  {
   "cell_type": "markdown",
   "id": "f2a5d629",
   "metadata": {},
   "source": [
    "# PW3-Supervised Machine Learning : A basic supervised Learning algorithms"
   ]
  },
  {
   "cell_type": "markdown",
   "id": "0869e6b8",
   "metadata": {},
   "source": [
    "### IMPORT"
   ]
  },
  {
   "cell_type": "code",
   "execution_count": 162,
   "id": "e461d079",
   "metadata": {},
   "outputs": [],
   "source": [
    "import pandas as pd\n",
    "from sklearn.ensemble import RandomForestClassifier\n",
    "from sklearn.model_selection import train_test_split\n",
    "from sklearn.linear_model import LinearRegression,LogisticRegression\n",
    "from sklearn.metrics import mean_squared_error, r2_score\n",
    "from sklearn.compose import ColumnTransformer\n",
    "from sklearn.pipeline import Pipeline,make_pipeline\n",
    "from sklearn.decomposition import PCA\n",
    "from sklearn.impute import SimpleImputer\n",
    "from sklearn.preprocessing import StandardScaler,OneHotEncoder,MinMaxScaler\n",
    "from sklearn import preprocessing\n",
    "from sklearn.metrics import accuracy_score, classification_report, confusion_matrix\n",
    "from sklearn.naive_bayes import GaussianNB\n",
    "from sklearn.metrics import roc_auc_score\n",
    "from sklearn.preprocessing import LabelBinarizer\n",
    "import numpy as np\n",
    "import matplotlib.pyplot as plt\n",
    "import warnings\n",
    "warnings.filterwarnings('ignore')"
   ]
  },
  {
   "cell_type": "markdown",
   "id": "c956cf84",
   "metadata": {},
   "source": [
    "## Exercise 1 : Scale the data"
   ]
  },
  {
   "cell_type": "code",
   "execution_count": 126,
   "id": "a9645fbc",
   "metadata": {},
   "outputs": [],
   "source": [
    "wine_data = pd.read_csv(\"winequality-white.csv\", sep=';')\n",
    "#wine_data.info()"
   ]
  },
  {
   "cell_type": "code",
   "execution_count": 127,
   "id": "8d82df79",
   "metadata": {},
   "outputs": [
    {
     "data": {
      "text/plain": [
       "array([[ 7.  ,  0.27,  0.36, ...,  0.45,  8.8 ,  6.  ],\n",
       "       [ 6.3 ,  0.3 ,  0.34, ...,  0.49,  9.5 ,  6.  ],\n",
       "       [ 8.1 ,  0.28,  0.4 , ...,  0.44, 10.1 ,  6.  ],\n",
       "       ...,\n",
       "       [ 6.5 ,  0.24,  0.19, ...,  0.46,  9.4 ,  6.  ],\n",
       "       [ 5.5 ,  0.29,  0.3 , ...,  0.38, 12.8 ,  7.  ],\n",
       "       [ 6.  ,  0.21,  0.38, ...,  0.32, 11.8 ,  6.  ]])"
      ]
     },
     "metadata": {},
     "output_type": "display_data"
    },
    {
     "data": {
      "text/plain": [
       "Index(['fixed acidity', 'volatile acidity', 'citric acid', 'residual sugar',\n",
       "       'chlorides', 'free sulfur dioxide', 'total sulfur dioxide', 'density',\n",
       "       'pH', 'sulphates', 'alcohol', 'quality'],\n",
       "      dtype='object')"
      ]
     },
     "metadata": {},
     "output_type": "display_data"
    }
   ],
   "source": [
    "wine_data = pd.DataFrame(data=wine_data.values, columns=wine_data.columns)\n",
    "display(wine_data.values)\n",
    "display(wine_data.columns)"
   ]
  },
  {
   "cell_type": "code",
   "execution_count": 81,
   "id": "8808007a",
   "metadata": {},
   "outputs": [
    {
     "data": {
      "text/plain": [
       "fixed acidity           0\n",
       "volatile acidity        0\n",
       "citric acid             0\n",
       "residual sugar          0\n",
       "chlorides               0\n",
       "free sulfur dioxide     0\n",
       "total sulfur dioxide    0\n",
       "density                 0\n",
       "pH                      0\n",
       "sulphates               0\n",
       "alcohol                 0\n",
       "quality                 0\n",
       "dtype: int64"
      ]
     },
     "execution_count": 81,
     "metadata": {},
     "output_type": "execute_result"
    }
   ],
   "source": [
    "wine_data.isnull().sum()"
   ]
  },
  {
   "cell_type": "code",
   "execution_count": 128,
   "id": "6da7e086",
   "metadata": {},
   "outputs": [
    {
     "data": {
      "text/html": [
       "<div>\n",
       "<style scoped>\n",
       "    .dataframe tbody tr th:only-of-type {\n",
       "        vertical-align: middle;\n",
       "    }\n",
       "\n",
       "    .dataframe tbody tr th {\n",
       "        vertical-align: top;\n",
       "    }\n",
       "\n",
       "    .dataframe thead th {\n",
       "        text-align: right;\n",
       "    }\n",
       "</style>\n",
       "<table border=\"1\" class=\"dataframe\">\n",
       "  <thead>\n",
       "    <tr style=\"text-align: right;\">\n",
       "      <th></th>\n",
       "      <th>fixed acidity</th>\n",
       "      <th>volatile acidity</th>\n",
       "      <th>citric acid</th>\n",
       "      <th>residual sugar</th>\n",
       "      <th>chlorides</th>\n",
       "      <th>free sulfur dioxide</th>\n",
       "      <th>total sulfur dioxide</th>\n",
       "      <th>density</th>\n",
       "      <th>pH</th>\n",
       "      <th>sulphates</th>\n",
       "      <th>alcohol</th>\n",
       "    </tr>\n",
       "  </thead>\n",
       "  <tbody>\n",
       "    <tr>\n",
       "      <th>0</th>\n",
       "      <td>7.0</td>\n",
       "      <td>0.27</td>\n",
       "      <td>0.36</td>\n",
       "      <td>20.7</td>\n",
       "      <td>0.045</td>\n",
       "      <td>45.0</td>\n",
       "      <td>170.0</td>\n",
       "      <td>1.0010</td>\n",
       "      <td>3.00</td>\n",
       "      <td>0.45</td>\n",
       "      <td>8.8</td>\n",
       "    </tr>\n",
       "    <tr>\n",
       "      <th>1</th>\n",
       "      <td>6.3</td>\n",
       "      <td>0.30</td>\n",
       "      <td>0.34</td>\n",
       "      <td>1.6</td>\n",
       "      <td>0.049</td>\n",
       "      <td>14.0</td>\n",
       "      <td>132.0</td>\n",
       "      <td>0.9940</td>\n",
       "      <td>3.30</td>\n",
       "      <td>0.49</td>\n",
       "      <td>9.5</td>\n",
       "    </tr>\n",
       "    <tr>\n",
       "      <th>2</th>\n",
       "      <td>8.1</td>\n",
       "      <td>0.28</td>\n",
       "      <td>0.40</td>\n",
       "      <td>6.9</td>\n",
       "      <td>0.050</td>\n",
       "      <td>30.0</td>\n",
       "      <td>97.0</td>\n",
       "      <td>0.9951</td>\n",
       "      <td>3.26</td>\n",
       "      <td>0.44</td>\n",
       "      <td>10.1</td>\n",
       "    </tr>\n",
       "    <tr>\n",
       "      <th>3</th>\n",
       "      <td>7.2</td>\n",
       "      <td>0.23</td>\n",
       "      <td>0.32</td>\n",
       "      <td>8.5</td>\n",
       "      <td>0.058</td>\n",
       "      <td>47.0</td>\n",
       "      <td>186.0</td>\n",
       "      <td>0.9956</td>\n",
       "      <td>3.19</td>\n",
       "      <td>0.40</td>\n",
       "      <td>9.9</td>\n",
       "    </tr>\n",
       "    <tr>\n",
       "      <th>4</th>\n",
       "      <td>7.2</td>\n",
       "      <td>0.23</td>\n",
       "      <td>0.32</td>\n",
       "      <td>8.5</td>\n",
       "      <td>0.058</td>\n",
       "      <td>47.0</td>\n",
       "      <td>186.0</td>\n",
       "      <td>0.9956</td>\n",
       "      <td>3.19</td>\n",
       "      <td>0.40</td>\n",
       "      <td>9.9</td>\n",
       "    </tr>\n",
       "  </tbody>\n",
       "</table>\n",
       "</div>"
      ],
      "text/plain": [
       "   fixed acidity  volatile acidity  citric acid  residual sugar  chlorides   \n",
       "0            7.0              0.27         0.36            20.7      0.045  \\\n",
       "1            6.3              0.30         0.34             1.6      0.049   \n",
       "2            8.1              0.28         0.40             6.9      0.050   \n",
       "3            7.2              0.23         0.32             8.5      0.058   \n",
       "4            7.2              0.23         0.32             8.5      0.058   \n",
       "\n",
       "   free sulfur dioxide  total sulfur dioxide  density    pH  sulphates   \n",
       "0                 45.0                 170.0   1.0010  3.00       0.45  \\\n",
       "1                 14.0                 132.0   0.9940  3.30       0.49   \n",
       "2                 30.0                  97.0   0.9951  3.26       0.44   \n",
       "3                 47.0                 186.0   0.9956  3.19       0.40   \n",
       "4                 47.0                 186.0   0.9956  3.19       0.40   \n",
       "\n",
       "   alcohol  \n",
       "0      8.8  \n",
       "1      9.5  \n",
       "2     10.1  \n",
       "3      9.9  \n",
       "4      9.9  "
      ]
     },
     "execution_count": 128,
     "metadata": {},
     "output_type": "execute_result"
    }
   ],
   "source": [
    "X=wine_data.drop(\"quality\",axis=1)\n",
    "X.head()"
   ]
  },
  {
   "cell_type": "code",
   "execution_count": 129,
   "id": "70ffba95",
   "metadata": {},
   "outputs": [
    {
     "data": {
      "text/plain": [
       "0    6.0\n",
       "1    6.0\n",
       "2    6.0\n",
       "3    6.0\n",
       "4    6.0\n",
       "Name: quality, dtype: float64"
      ]
     },
     "execution_count": 129,
     "metadata": {},
     "output_type": "execute_result"
    }
   ],
   "source": [
    "Y=wine_data[\"quality\"]\n",
    "Y.head()"
   ]
  },
  {
   "cell_type": "code",
   "execution_count": 7,
   "id": "facad19a",
   "metadata": {},
   "outputs": [],
   "source": [
    "scaler = StandardScaler()\n",
    "X_scaled = scaler.fit_transform(X)"
   ]
  },
  {
   "cell_type": "code",
   "execution_count": 8,
   "id": "e2022948",
   "metadata": {},
   "outputs": [],
   "source": [
    "x_train, x_test, y_train, y_test = train_test_split(X_scaled, Y, test_size=0.3, random_state=20)"
   ]
  },
  {
   "cell_type": "code",
   "execution_count": 9,
   "id": "db0ebc26",
   "metadata": {},
   "outputs": [
    {
     "data": {
      "text/html": [
       "<style>#sk-container-id-1 {color: black;}#sk-container-id-1 pre{padding: 0;}#sk-container-id-1 div.sk-toggleable {background-color: white;}#sk-container-id-1 label.sk-toggleable__label {cursor: pointer;display: block;width: 100%;margin-bottom: 0;padding: 0.3em;box-sizing: border-box;text-align: center;}#sk-container-id-1 label.sk-toggleable__label-arrow:before {content: \"▸\";float: left;margin-right: 0.25em;color: #696969;}#sk-container-id-1 label.sk-toggleable__label-arrow:hover:before {color: black;}#sk-container-id-1 div.sk-estimator:hover label.sk-toggleable__label-arrow:before {color: black;}#sk-container-id-1 div.sk-toggleable__content {max-height: 0;max-width: 0;overflow: hidden;text-align: left;background-color: #f0f8ff;}#sk-container-id-1 div.sk-toggleable__content pre {margin: 0.2em;color: black;border-radius: 0.25em;background-color: #f0f8ff;}#sk-container-id-1 input.sk-toggleable__control:checked~div.sk-toggleable__content {max-height: 200px;max-width: 100%;overflow: auto;}#sk-container-id-1 input.sk-toggleable__control:checked~label.sk-toggleable__label-arrow:before {content: \"▾\";}#sk-container-id-1 div.sk-estimator input.sk-toggleable__control:checked~label.sk-toggleable__label {background-color: #d4ebff;}#sk-container-id-1 div.sk-label input.sk-toggleable__control:checked~label.sk-toggleable__label {background-color: #d4ebff;}#sk-container-id-1 input.sk-hidden--visually {border: 0;clip: rect(1px 1px 1px 1px);clip: rect(1px, 1px, 1px, 1px);height: 1px;margin: -1px;overflow: hidden;padding: 0;position: absolute;width: 1px;}#sk-container-id-1 div.sk-estimator {font-family: monospace;background-color: #f0f8ff;border: 1px dotted black;border-radius: 0.25em;box-sizing: border-box;margin-bottom: 0.5em;}#sk-container-id-1 div.sk-estimator:hover {background-color: #d4ebff;}#sk-container-id-1 div.sk-parallel-item::after {content: \"\";width: 100%;border-bottom: 1px solid gray;flex-grow: 1;}#sk-container-id-1 div.sk-label:hover label.sk-toggleable__label {background-color: #d4ebff;}#sk-container-id-1 div.sk-serial::before {content: \"\";position: absolute;border-left: 1px solid gray;box-sizing: border-box;top: 0;bottom: 0;left: 50%;z-index: 0;}#sk-container-id-1 div.sk-serial {display: flex;flex-direction: column;align-items: center;background-color: white;padding-right: 0.2em;padding-left: 0.2em;position: relative;}#sk-container-id-1 div.sk-item {position: relative;z-index: 1;}#sk-container-id-1 div.sk-parallel {display: flex;align-items: stretch;justify-content: center;background-color: white;position: relative;}#sk-container-id-1 div.sk-item::before, #sk-container-id-1 div.sk-parallel-item::before {content: \"\";position: absolute;border-left: 1px solid gray;box-sizing: border-box;top: 0;bottom: 0;left: 50%;z-index: -1;}#sk-container-id-1 div.sk-parallel-item {display: flex;flex-direction: column;z-index: 1;position: relative;background-color: white;}#sk-container-id-1 div.sk-parallel-item:first-child::after {align-self: flex-end;width: 50%;}#sk-container-id-1 div.sk-parallel-item:last-child::after {align-self: flex-start;width: 50%;}#sk-container-id-1 div.sk-parallel-item:only-child::after {width: 0;}#sk-container-id-1 div.sk-dashed-wrapped {border: 1px dashed gray;margin: 0 0.4em 0.5em 0.4em;box-sizing: border-box;padding-bottom: 0.4em;background-color: white;}#sk-container-id-1 div.sk-label label {font-family: monospace;font-weight: bold;display: inline-block;line-height: 1.2em;}#sk-container-id-1 div.sk-label-container {text-align: center;}#sk-container-id-1 div.sk-container {/* jupyter's `normalize.less` sets `[hidden] { display: none; }` but bootstrap.min.css set `[hidden] { display: none !important; }` so we also need the `!important` here to be able to override the default hidden behavior on the sphinx rendered scikit-learn.org. See: https://github.com/scikit-learn/scikit-learn/issues/21755 */display: inline-block !important;position: relative;}#sk-container-id-1 div.sk-text-repr-fallback {display: none;}</style><div id=\"sk-container-id-1\" class=\"sk-top-container\"><div class=\"sk-text-repr-fallback\"><pre>LinearRegression()</pre><b>In a Jupyter environment, please rerun this cell to show the HTML representation or trust the notebook. <br />On GitHub, the HTML representation is unable to render, please try loading this page with nbviewer.org.</b></div><div class=\"sk-container\" hidden><div class=\"sk-item\"><div class=\"sk-estimator sk-toggleable\"><input class=\"sk-toggleable__control sk-hidden--visually\" id=\"sk-estimator-id-1\" type=\"checkbox\" checked><label for=\"sk-estimator-id-1\" class=\"sk-toggleable__label sk-toggleable__label-arrow\">LinearRegression</label><div class=\"sk-toggleable__content\"><pre>LinearRegression()</pre></div></div></div></div></div>"
      ],
      "text/plain": [
       "LinearRegression()"
      ]
     },
     "execution_count": 9,
     "metadata": {},
     "output_type": "execute_result"
    }
   ],
   "source": [
    "model = LinearRegression()\n",
    "model.fit(x_train, y_train)"
   ]
  },
  {
   "cell_type": "code",
   "execution_count": 10,
   "id": "4b5b7e77",
   "metadata": {},
   "outputs": [],
   "source": [
    "y_pred = model.predict(x_test)"
   ]
  },
  {
   "cell_type": "code",
   "execution_count": 11,
   "id": "558292ed",
   "metadata": {},
   "outputs": [
    {
     "data": {
      "text/plain": [
       "0.602822934141091"
      ]
     },
     "metadata": {},
     "output_type": "display_data"
    },
    {
     "data": {
      "text/plain": [
       "0.26788524013845816"
      ]
     },
     "metadata": {},
     "output_type": "display_data"
    }
   ],
   "source": [
    "mse = mean_squared_error(y_test, y_pred)\n",
    "r2 = r2_score(y_test, y_pred)\n",
    "display(mse)\n",
    "display(r2)"
   ]
  },
  {
   "cell_type": "markdown",
   "id": "45f29707",
   "metadata": {},
   "source": [
    "## Exercice 2"
   ]
  },
  {
   "cell_type": "code",
   "execution_count": 12,
   "id": "469628fd",
   "metadata": {},
   "outputs": [],
   "source": [
    "def LR_Pipeline(scaler) :\n",
    "    return make_pipeline(scaler,LinearRegression())"
   ]
  },
  {
   "cell_type": "markdown",
   "id": "38009626",
   "metadata": {},
   "source": [
    "### Test_size=0.1"
   ]
  },
  {
   "cell_type": "code",
   "execution_count": 13,
   "id": "c4225023",
   "metadata": {},
   "outputs": [
    {
     "name": "stdout",
     "output_type": "stream",
     "text": [
      "For test size = 0.1 we have : \n",
      "For Standard Scaler : MSE = 0.641556576669303, R² = 0.2528098427486969\n",
      "For MinMax Scaler   : MSE = 0.6415565766693038, R² = 0.252809842748696\n"
     ]
    }
   ],
   "source": [
    "x_train, x_test, y_train, y_test = train_test_split(X, Y, test_size=0.1, random_state=20)\n",
    "\n",
    "Pipeline_std=LR_Pipeline(StandardScaler())\n",
    "Pipeline_minmax=LR_Pipeline(MinMaxScaler())\n",
    "\n",
    "Pipeline_std.fit(x_train,y_train)\n",
    "Pipeline_minmax.fit(x_train,y_train)\n",
    "\n",
    "y_pred_std=Pipeline_std.predict(x_test)\n",
    "y_pred_minmax=Pipeline_minmax.predict(x_test)\n",
    "\n",
    "mse_std=mean_squared_error(y_test,y_pred_std)\n",
    "mse_minmax=mean_squared_error(y_test,y_pred_minmax)\n",
    "\n",
    "r2_std = r2_score(y_test, y_pred_std)\n",
    "r2_minmax = r2_score(y_test, y_pred_minmax)\n",
    "\n",
    "print('For test size = 0.1 we have : ')\n",
    "print(f\"For Standard Scaler : MSE = {mse_std}, R² = {r2_std}\")\n",
    "print(f\"For MinMax Scaler   : MSE = {mse_minmax}, R² = {r2_minmax}\")"
   ]
  },
  {
   "cell_type": "markdown",
   "id": "0ee3744f",
   "metadata": {},
   "source": [
    "### Tes_size=0.2"
   ]
  },
  {
   "cell_type": "code",
   "execution_count": 14,
   "id": "826f267a",
   "metadata": {},
   "outputs": [
    {
     "name": "stdout",
     "output_type": "stream",
     "text": [
      "For test size = 0.2 we have : \n",
      "For Standard Scaler : MSE = 0.6207195741681919, R² = 0.25865427519753426\n",
      "For MinMax Scaler   : MSE = 0.6207195741681923, R² = 0.2586542751975337\n"
     ]
    }
   ],
   "source": [
    "x_train, x_test, y_train, y_test = train_test_split(X, Y, test_size=0.2, random_state=20)\n",
    "Pipeline_std=LR_Pipeline(StandardScaler())\n",
    "Pipeline_minmax=LR_Pipeline(MinMaxScaler())\n",
    "\n",
    "Pipeline_std.fit(x_train,y_train)\n",
    "Pipeline_minmax.fit(x_train,y_train)\n",
    "\n",
    "y_pred_std=Pipeline_std.predict(x_test)\n",
    "y_pred_minmax=Pipeline_minmax.predict(x_test)\n",
    "\n",
    "mse_std=mean_squared_error(y_test,y_pred_std)\n",
    "mse_minmax=mean_squared_error(y_test,y_pred_minmax)\n",
    "\n",
    "r2_std = r2_score(y_test, y_pred_std)\n",
    "r2_minmax = r2_score(y_test, y_pred_minmax)\n",
    "\n",
    "print('For test size = 0.2 we have : ')\n",
    "print(f\"For Standard Scaler : MSE = {mse_std}, R² = {r2_std}\")\n",
    "print(f\"For MinMax Scaler   : MSE = {mse_minmax}, R² = {r2_minmax}\")"
   ]
  },
  {
   "cell_type": "raw",
   "id": "ec00ff5f",
   "metadata": {},
   "source": [
    "The best model is the the one with the parameter test_size=2 with the Standard Scaler or MinMax Scaler because he has the lowest MSE and highest RSE and with the best precision"
   ]
  },
  {
   "cell_type": "code",
   "execution_count": 15,
   "id": "5ed1c095",
   "metadata": {},
   "outputs": [
    {
     "data": {
      "image/png": "[encoded data removed]",
      "text/plain": [
       "<Figure size 640x480 with 1 Axes>"
      ]
     },
     "metadata": {},
     "output_type": "display_data"
    }
   ],
   "source": [
    "plt.scatter(y_test, y_pred_minmax, c='blue', marker='o', label='Test Data')\n",
    "plt.xlabel(\"Real Wine Quality\")\n",
    "plt.ylabel(\"Predicted Wine Quality\")\n",
    "plt.title(\"Real vs. Predicted Wine Quality\")\n",
    "plt.legend()\n",
    "plt.show()"
   ]
  },
  {
   "cell_type": "code",
   "execution_count": 16,
   "id": "5b996922",
   "metadata": {},
   "outputs": [
    {
     "data": {
      "text/plain": [
       "array([ 3.31145230e-02, -1.82038106e-01, -2.66556160e-05,  3.83416602e-01,\n",
       "       -9.91113036e-03,  8.96198145e-02, -3.01463831e-02, -3.85013522e-01,\n",
       "        9.34259732e-02,  5.59975192e-02,  2.57031038e-01])"
      ]
     },
     "metadata": {},
     "output_type": "display_data"
    },
    {
     "data": {
      "text/plain": [
       "5.879896150244012"
      ]
     },
     "metadata": {},
     "output_type": "display_data"
    }
   ],
   "source": [
    "coefficients = model.coef_\n",
    "intercept = model.intercept_\n",
    "display(coefficients,intercept)"
   ]
  },
  {
   "cell_type": "markdown",
   "id": "bbffa517",
   "metadata": {},
   "source": [
    "## Exercise 3: Logistic regression"
   ]
  },
  {
   "cell_type": "code",
   "execution_count": 130,
   "id": "b1659bd4",
   "metadata": {},
   "outputs": [],
   "source": [
    "Y_new=(wine_data['quality']>=5).astype(int)\n",
    "x_train, x_test, y_train, y_test = train_test_split(X, Y_new, test_size=0.2, random_state=20)"
   ]
  },
  {
   "cell_type": "code",
   "execution_count": 131,
   "id": "ea65628f",
   "metadata": {},
   "outputs": [],
   "source": [
    "def Reg_Pipeline(scaler,model):\n",
    "    pipeline= make_pipeline(scaler,model)\n",
    "    pipeline.fit(x_train, y_train)\n",
    "    y_pred=pipeline.predict(x_test)\n",
    "    return y_pred"
   ]
  },
  {
   "cell_type": "code",
   "execution_count": 132,
   "id": "f75b0fda",
   "metadata": {},
   "outputs": [
    {
     "name": "stdout",
     "output_type": "stream",
     "text": [
      "Accuracy: 0.9530612244897959\n",
      "\n",
      "Confusion Matrix: [[  2  45]\n",
      " [  1 932]]\n",
      "\n",
      "Classification Report:\n",
      "               precision    recall  f1-score   support\n",
      "\n",
      "           0       0.67      0.04      0.08        47\n",
      "           1       0.95      1.00      0.98       933\n",
      "\n",
      "    accuracy                           0.95       980\n",
      "   macro avg       0.81      0.52      0.53       980\n",
      "weighted avg       0.94      0.95      0.93       980\n",
      "\n"
     ]
    }
   ],
   "source": [
    "y_pred_logistic= Reg_Pipeline(StandardScaler(),LogisticRegression())\n",
    "\n",
    "accuracy = accuracy_score(y_test, y_pred_logistic)\n",
    "confusion = confusion_matrix(y_test, y_pred_logistic)\n",
    "classification_rep = classification_report(y_test,y_pred_logistic)\n",
    "\n",
    "print(\"Accuracy:\", accuracy)\n",
    "print(\"\\nConfusion Matrix:\", confusion)\n",
    "print(\"\\nClassification Report:\\n\", classification_rep)"
   ]
  },
  {
   "cell_type": "markdown",
   "id": "35d19135",
   "metadata": {},
   "source": [
    "## Exercise 4: Naive Bayes classification"
   ]
  },
  {
   "cell_type": "code",
   "execution_count": 133,
   "id": "298d33c3",
   "metadata": {},
   "outputs": [
    {
     "name": "stdout",
     "output_type": "stream",
     "text": [
      "Accuracy: 0.9336734693877551\n",
      "\n",
      "Confusion Matrix: [[ 15  32]\n",
      " [ 33 900]]\n",
      "\n",
      "Classification Report:\n",
      "               precision    recall  f1-score   support\n",
      "\n",
      "           0       0.31      0.32      0.32        47\n",
      "           1       0.97      0.96      0.97       933\n",
      "\n",
      "    accuracy                           0.93       980\n",
      "   macro avg       0.64      0.64      0.64       980\n",
      "weighted avg       0.93      0.93      0.93       980\n",
      "\n"
     ]
    }
   ],
   "source": [
    "y_pred_gnb = Reg_Pipeline(StandardScaler(),GaussianNB())\n",
    "\n",
    "accuracy = accuracy_score(y_test, y_pred_gnb)\n",
    "confusion = confusion_matrix(y_test,y_pred_gnb)\n",
    "classification_rep = classification_report(y_test,y_pred_gnb)\n",
    "\n",
    "print(\"Accuracy:\", accuracy)\n",
    "print(\"\\nConfusion Matrix:\", confusion)\n",
    "print(\"\\nClassification Report:\\n\", classification_rep)"
   ]
  },
  {
   "cell_type": "raw",
   "id": "8ecf31b1",
   "metadata": {},
   "source": [
    "We can see that Gaussian Model has a less accuracy than logistic regression"
   ]
  },
  {
   "cell_type": "markdown",
   "id": "5bcfcdbe",
   "metadata": {},
   "source": [
    "## Exercise 5: performance comparison between different models\n"
   ]
  },
  {
   "cell_type": "code",
   "execution_count": 134,
   "id": "f3a3add3",
   "metadata": {},
   "outputs": [
    {
     "name": "stdout",
     "output_type": "stream",
     "text": [
      "Gaussian Naive Bayes is better based on AUC-ROC.\n",
      "Result of the AUC-ROC\n",
      "AUC-ROC with Logistic Regression : 0.5207406900640806\n",
      "AUC-ROC with GaussianNB : 0.6418895806252993\n"
     ]
    }
   ],
   "source": [
    "label_binarizer = LabelBinarizer()\n",
    "y_test_one_hot = label_binarizer.fit_transform(y_test)\n",
    "\n",
    "# Assuming y_pred_logistic and y_pred_gnb are the predicted class labels (not probabilities) from Logistic Regression and GaussianNB models\n",
    "y_pred_logistic_one_hot = label_binarizer.transform(y_pred_logistic)\n",
    "y_pred_gnb_one_hot = label_binarizer.transform(y_pred_gnb)\n",
    "\n",
    "roc_auc_logistic = roc_auc_score(y_test_one_hot, y_pred_logistic_one_hot, average='weighted')\n",
    "roc_auc_gnb = roc_auc_score(y_test_one_hot, y_pred_gnb_one_hot, average='weighted')\n",
    "\n",
    "if roc_auc_logistic > roc_auc_gnb:\n",
    "    print(\"Logistic Regression is better based on AUC-ROC.\")\n",
    "else:\n",
    "    print(\"Gaussian Naive Bayes is better based on AUC-ROC.\")\n",
    "    \n",
    "print('Result of the AUC-ROC')\n",
    "print(f\"AUC-ROC with Logistic Regression : {roc_auc_logistic}\")\n",
    "print(f\"AUC-ROC with GaussianNB : {roc_auc_gnb}\")"
   ]
  },
  {
   "cell_type": "code",
   "execution_count": 136,
   "id": "4034fab0",
   "metadata": {},
   "outputs": [
    {
     "data": {
      "image/png": "[encoded data removed]",
      "text/plain": [
       "<Figure size 640x480 with 1 Axes>"
      ]
     },
     "metadata": {},
     "output_type": "display_data"
    }
   ],
   "source": [
    "pipe_lgr=make_pipeline(StandardScaler(),LogisticRegression())\n",
    "pipe_lgr.fit(x_train, y_train)\n",
    "probs = pipe_lgr.predict_proba(x_test)\n",
    "probs = probs[:, 1]\n",
    "fpr, tpr, thresholds = roc_curve(y_test, probs)\n",
    "roc_auc = auc(fpr, tpr)\n",
    "plt.figure()\n",
    "plt.plot(fpr, tpr, color='darkorange', lw=1, label='ROC curve (area = %0.2f)' % roc_auc)\n",
    "plt.plot([0, 1], [0, 1], color='navy', linestyle='--')\n",
    "plt.xlim([0.0, 1.0])\n",
    "plt.ylim([0.0, 1.05])\n",
    "plt.xlabel('False Positive Rate')\n",
    "plt.ylabel('True Positive Rate')\n",
    "plt.title('Receiver Operating Characteristic (ROC) Curve')\n",
    "plt.legend(loc=\"lower right\")\n",
    "plt.show()"
   ]
  },
  {
   "cell_type": "markdown",
   "id": "d72ac2f1",
   "metadata": {},
   "source": [
    "## Exercise 6: Do it from scratch"
   ]
  },
  {
   "cell_type": "markdown",
   "id": "5551dbe0",
   "metadata": {},
   "source": [
    "### Data information and preprocessing"
   ]
  },
  {
   "cell_type": "code",
   "execution_count": 109,
   "id": "bc08881c",
   "metadata": {},
   "outputs": [
    {
     "name": "stdout",
     "output_type": "stream",
     "text": [
      "<class 'pandas.core.frame.DataFrame'>\n",
      "RangeIndex: 569 entries, 0 to 568\n",
      "Data columns (total 32 columns):\n",
      " #   Column                   Non-Null Count  Dtype \n",
      "---  ------                   --------------  ----- \n",
      " 0   id                       569 non-null    object\n",
      " 1   diagnosis                569 non-null    object\n",
      " 2   radius_mean              569 non-null    object\n",
      " 3   texture_mean             569 non-null    object\n",
      " 4   perimeter_mean           569 non-null    object\n",
      " 5   area_mean                569 non-null    object\n",
      " 6   smoothness_mean          569 non-null    object\n",
      " 7   compactness_mean         569 non-null    object\n",
      " 8   concavity_mean           569 non-null    object\n",
      " 9   concave points_mean      569 non-null    object\n",
      " 10  symmetry_mean            569 non-null    object\n",
      " 11  fractal_dimension_mean   569 non-null    object\n",
      " 12  radius_se                569 non-null    object\n",
      " 13  texture_se               569 non-null    object\n",
      " 14  perimeter_se             569 non-null    object\n",
      " 15  area_se                  569 non-null    object\n",
      " 16  smoothness_se            569 non-null    object\n",
      " 17  compactness_se           569 non-null    object\n",
      " 18  concavity_se             569 non-null    object\n",
      " 19  concave points_se        569 non-null    object\n",
      " 20  symmetry_se              569 non-null    object\n",
      " 21  fractal_dimension_se     569 non-null    object\n",
      " 22  radius_worst             569 non-null    object\n",
      " 23  texture_worst            569 non-null    object\n",
      " 24  perimeter_worst          569 non-null    object\n",
      " 25  area_worst               569 non-null    object\n",
      " 26  smoothness_worst         569 non-null    object\n",
      " 27  compactness_worst        569 non-null    object\n",
      " 28  concavity_worst          569 non-null    object\n",
      " 29  concave points_worst     569 non-null    object\n",
      " 30  symmetry_worst           569 non-null    object\n",
      " 31  fractal_dimension_worst  569 non-null    object\n",
      "dtypes: object(32)\n",
      "memory usage: 142.4+ KB\n"
     ]
    },
    {
     "data": {
      "text/plain": [
       "None"
      ]
     },
     "metadata": {},
     "output_type": "display_data"
    },
    {
     "data": {
      "text/plain": [
       "id                         0\n",
       "diagnosis                  0\n",
       "radius_mean                0\n",
       "texture_mean               0\n",
       "perimeter_mean             0\n",
       "area_mean                  0\n",
       "smoothness_mean            0\n",
       "compactness_mean           0\n",
       "concavity_mean             0\n",
       "concave points_mean        0\n",
       "symmetry_mean              0\n",
       "fractal_dimension_mean     0\n",
       "radius_se                  0\n",
       "texture_se                 0\n",
       "perimeter_se               0\n",
       "area_se                    0\n",
       "smoothness_se              0\n",
       "compactness_se             0\n",
       "concavity_se               0\n",
       "concave points_se          0\n",
       "symmetry_se                0\n",
       "fractal_dimension_se       0\n",
       "radius_worst               0\n",
       "texture_worst              0\n",
       "perimeter_worst            0\n",
       "area_worst                 0\n",
       "smoothness_worst           0\n",
       "compactness_worst          0\n",
       "concavity_worst            0\n",
       "concave points_worst       0\n",
       "symmetry_worst             0\n",
       "fractal_dimension_worst    0\n",
       "dtype: int64"
      ]
     },
     "metadata": {},
     "output_type": "display_data"
    }
   ],
   "source": [
    "df= pd.read_csv(\"data_BreastCancer.csv\", sep=',')\n",
    "df=df.drop(\"Unnamed: 32\",axis=1)\n",
    "df= pd.DataFrame(data=df.values, columns=df.columns)\n",
    "display(df.info(),df.isnull().sum())"
   ]
  },
  {
   "cell_type": "code",
   "execution_count": 110,
   "id": "8beaaf7e",
   "metadata": {},
   "outputs": [
    {
     "data": {
      "text/html": [
       "<div>\n",
       "<style scoped>\n",
       "    .dataframe tbody tr th:only-of-type {\n",
       "        vertical-align: middle;\n",
       "    }\n",
       "\n",
       "    .dataframe tbody tr th {\n",
       "        vertical-align: top;\n",
       "    }\n",
       "\n",
       "    .dataframe thead th {\n",
       "        text-align: right;\n",
       "    }\n",
       "</style>\n",
       "<table border=\"1\" class=\"dataframe\">\n",
       "  <thead>\n",
       "    <tr style=\"text-align: right;\">\n",
       "      <th></th>\n",
       "      <th>id</th>\n",
       "      <th>diagnosis</th>\n",
       "      <th>radius_mean</th>\n",
       "      <th>texture_mean</th>\n",
       "      <th>perimeter_mean</th>\n",
       "      <th>area_mean</th>\n",
       "      <th>smoothness_mean</th>\n",
       "      <th>compactness_mean</th>\n",
       "      <th>concavity_mean</th>\n",
       "      <th>concave points_mean</th>\n",
       "      <th>...</th>\n",
       "      <th>radius_worst</th>\n",
       "      <th>texture_worst</th>\n",
       "      <th>perimeter_worst</th>\n",
       "      <th>area_worst</th>\n",
       "      <th>smoothness_worst</th>\n",
       "      <th>compactness_worst</th>\n",
       "      <th>concavity_worst</th>\n",
       "      <th>concave points_worst</th>\n",
       "      <th>symmetry_worst</th>\n",
       "      <th>fractal_dimension_worst</th>\n",
       "    </tr>\n",
       "  </thead>\n",
       "  <tbody>\n",
       "    <tr>\n",
       "      <th>0</th>\n",
       "      <td>842302</td>\n",
       "      <td>M</td>\n",
       "      <td>17.99</td>\n",
       "      <td>10.38</td>\n",
       "      <td>122.8</td>\n",
       "      <td>1001.0</td>\n",
       "      <td>0.1184</td>\n",
       "      <td>0.2776</td>\n",
       "      <td>0.3001</td>\n",
       "      <td>0.1471</td>\n",
       "      <td>...</td>\n",
       "      <td>25.38</td>\n",
       "      <td>17.33</td>\n",
       "      <td>184.6</td>\n",
       "      <td>2019.0</td>\n",
       "      <td>0.1622</td>\n",
       "      <td>0.6656</td>\n",
       "      <td>0.7119</td>\n",
       "      <td>0.2654</td>\n",
       "      <td>0.4601</td>\n",
       "      <td>0.1189</td>\n",
       "    </tr>\n",
       "    <tr>\n",
       "      <th>1</th>\n",
       "      <td>842517</td>\n",
       "      <td>M</td>\n",
       "      <td>20.57</td>\n",
       "      <td>17.77</td>\n",
       "      <td>132.9</td>\n",
       "      <td>1326.0</td>\n",
       "      <td>0.08474</td>\n",
       "      <td>0.07864</td>\n",
       "      <td>0.0869</td>\n",
       "      <td>0.07017</td>\n",
       "      <td>...</td>\n",
       "      <td>24.99</td>\n",
       "      <td>23.41</td>\n",
       "      <td>158.8</td>\n",
       "      <td>1956.0</td>\n",
       "      <td>0.1238</td>\n",
       "      <td>0.1866</td>\n",
       "      <td>0.2416</td>\n",
       "      <td>0.186</td>\n",
       "      <td>0.275</td>\n",
       "      <td>0.08902</td>\n",
       "    </tr>\n",
       "    <tr>\n",
       "      <th>2</th>\n",
       "      <td>84300903</td>\n",
       "      <td>M</td>\n",
       "      <td>19.69</td>\n",
       "      <td>21.25</td>\n",
       "      <td>130.0</td>\n",
       "      <td>1203.0</td>\n",
       "      <td>0.1096</td>\n",
       "      <td>0.1599</td>\n",
       "      <td>0.1974</td>\n",
       "      <td>0.1279</td>\n",
       "      <td>...</td>\n",
       "      <td>23.57</td>\n",
       "      <td>25.53</td>\n",
       "      <td>152.5</td>\n",
       "      <td>1709.0</td>\n",
       "      <td>0.1444</td>\n",
       "      <td>0.4245</td>\n",
       "      <td>0.4504</td>\n",
       "      <td>0.243</td>\n",
       "      <td>0.3613</td>\n",
       "      <td>0.08758</td>\n",
       "    </tr>\n",
       "    <tr>\n",
       "      <th>3</th>\n",
       "      <td>84348301</td>\n",
       "      <td>M</td>\n",
       "      <td>11.42</td>\n",
       "      <td>20.38</td>\n",
       "      <td>77.58</td>\n",
       "      <td>386.1</td>\n",
       "      <td>0.1425</td>\n",
       "      <td>0.2839</td>\n",
       "      <td>0.2414</td>\n",
       "      <td>0.1052</td>\n",
       "      <td>...</td>\n",
       "      <td>14.91</td>\n",
       "      <td>26.5</td>\n",
       "      <td>98.87</td>\n",
       "      <td>567.7</td>\n",
       "      <td>0.2098</td>\n",
       "      <td>0.8663</td>\n",
       "      <td>0.6869</td>\n",
       "      <td>0.2575</td>\n",
       "      <td>0.6638</td>\n",
       "      <td>0.173</td>\n",
       "    </tr>\n",
       "    <tr>\n",
       "      <th>4</th>\n",
       "      <td>84358402</td>\n",
       "      <td>M</td>\n",
       "      <td>20.29</td>\n",
       "      <td>14.34</td>\n",
       "      <td>135.1</td>\n",
       "      <td>1297.0</td>\n",
       "      <td>0.1003</td>\n",
       "      <td>0.1328</td>\n",
       "      <td>0.198</td>\n",
       "      <td>0.1043</td>\n",
       "      <td>...</td>\n",
       "      <td>22.54</td>\n",
       "      <td>16.67</td>\n",
       "      <td>152.2</td>\n",
       "      <td>1575.0</td>\n",
       "      <td>0.1374</td>\n",
       "      <td>0.205</td>\n",
       "      <td>0.4</td>\n",
       "      <td>0.1625</td>\n",
       "      <td>0.2364</td>\n",
       "      <td>0.07678</td>\n",
       "    </tr>\n",
       "  </tbody>\n",
       "</table>\n",
       "<p>5 rows × 32 columns</p>\n",
       "</div>"
      ],
      "text/plain": [
       "         id diagnosis radius_mean texture_mean perimeter_mean area_mean   \n",
       "0    842302         M       17.99        10.38          122.8    1001.0  \\\n",
       "1    842517         M       20.57        17.77          132.9    1326.0   \n",
       "2  84300903         M       19.69        21.25          130.0    1203.0   \n",
       "3  84348301         M       11.42        20.38          77.58     386.1   \n",
       "4  84358402         M       20.29        14.34          135.1    1297.0   \n",
       "\n",
       "  smoothness_mean compactness_mean concavity_mean concave points_mean  ...   \n",
       "0          0.1184           0.2776         0.3001              0.1471  ...  \\\n",
       "1         0.08474          0.07864         0.0869             0.07017  ...   \n",
       "2          0.1096           0.1599         0.1974              0.1279  ...   \n",
       "3          0.1425           0.2839         0.2414              0.1052  ...   \n",
       "4          0.1003           0.1328          0.198              0.1043  ...   \n",
       "\n",
       "  radius_worst texture_worst perimeter_worst area_worst smoothness_worst   \n",
       "0        25.38         17.33           184.6     2019.0           0.1622  \\\n",
       "1        24.99         23.41           158.8     1956.0           0.1238   \n",
       "2        23.57         25.53           152.5     1709.0           0.1444   \n",
       "3        14.91          26.5           98.87      567.7           0.2098   \n",
       "4        22.54         16.67           152.2     1575.0           0.1374   \n",
       "\n",
       "  compactness_worst concavity_worst concave points_worst symmetry_worst   \n",
       "0            0.6656          0.7119               0.2654         0.4601  \\\n",
       "1            0.1866          0.2416                0.186          0.275   \n",
       "2            0.4245          0.4504                0.243         0.3613   \n",
       "3            0.8663          0.6869               0.2575         0.6638   \n",
       "4             0.205             0.4               0.1625         0.2364   \n",
       "\n",
       "  fractal_dimension_worst  \n",
       "0                  0.1189  \n",
       "1                 0.08902  \n",
       "2                 0.08758  \n",
       "3                   0.173  \n",
       "4                 0.07678  \n",
       "\n",
       "[5 rows x 32 columns]"
      ]
     },
     "execution_count": 110,
     "metadata": {},
     "output_type": "execute_result"
    }
   ],
   "source": [
    "df.head()"
   ]
  },
  {
   "cell_type": "raw",
   "id": "9aecd9a1",
   "metadata": {},
   "source": [
    "As we can see above that we have diagnosis which is B (Benin) or M (Malignant) this will be our Y data. We will make a Y data with 1 if it's Benin and 0 if it's Malignant"
   ]
  },
  {
   "cell_type": "code",
   "execution_count": 163,
   "id": "5edf6d9c",
   "metadata": {},
   "outputs": [],
   "source": [
    "X=df.drop(\"diagnosis\",axis=1)\n",
    "Y=(df['diagnosis']==\"B\").astype(int)"
   ]
  },
  {
   "cell_type": "markdown",
   "id": "2ab1e9f3",
   "metadata": {},
   "source": [
    "### Global function"
   ]
  },
  {
   "cell_type": "code",
   "execution_count": 173,
   "id": "11942e7f",
   "metadata": {},
   "outputs": [],
   "source": [
    "def Global_Pipeline(X,Y,size,scaler,model):\n",
    "    pipeline=make_pipeline(scaler,model)\n",
    "    x_train, x_test, y_train, y_test = train_test_split(X, Y, test_size=size, random_state=20)\n",
    "    pipeline.fit(x_train, y_train)\n",
    "    y_pred=pipeline.predict(x_test)\n",
    "    accuracy = accuracy_score(y_test, y_pred)\n",
    "    confusion = confusion_matrix(y_test,y_pred)\n",
    "    classification_rep = classification_report(y_test,y_pred)\n",
    "    fpr = None\n",
    "    tpr = None\n",
    "    roc_auc = None\n",
    "\n",
    "    # Compute ROC curve and AUC for binary classification or OvR\n",
    "    if len(np.unique(Y)) == 2:  # Binary classification\n",
    "        probs = pipeline.predict_proba(x_test)\n",
    "        probs = probs[:, 1]\n",
    "        fpr, tpr, thresholds = roc_curve(y_test, probs)\n",
    "        roc_auc = auc(fpr, tpr)\n",
    "    else:  # OvR for multiclass classification\n",
    "        roc_auc = roc_auc_score(y_test, pipeline.predict_proba(x_test), multi_class='ovr')\n",
    "        \n",
    "    return accuracy,confusion,classification_rep,y_test,y_pred, fpr, tpr, roc_auc"
   ]
  },
  {
   "cell_type": "markdown",
   "id": "3bc86d28",
   "metadata": {},
   "source": [
    "### Result and Conclusion"
   ]
  },
  {
   "cell_type": "code",
   "execution_count": 174,
   "id": "aae3ea65",
   "metadata": {},
   "outputs": [],
   "source": [
    "accuracy_LR, confusion_LR, classification_rep_LR, y_test_2, y_pred_LR, fpr_LR, tpr_LR, roc_auc_LR = Global_Pipeline(X, Y, 0.2, StandardScaler(), LogisticRegression())\n",
    "accuracy_GNB, confusion_GNB, classification_rep_GNB, y_test_2, y_pred_GNB, fpr_GNB, tpr_GNB, roc_auc_GNB = Global_Pipeline(X, Y, 0.2, StandardScaler(), GaussianNB())"
   ]
  },
  {
   "cell_type": "code",
   "execution_count": 175,
   "id": "766fcd50",
   "metadata": {},
   "outputs": [
    {
     "name": "stdout",
     "output_type": "stream",
     "text": [
      "For the Logistic Regression\n",
      "Accuracy: 0.9912280701754386\n",
      "\n",
      "Confusion Matrix: [[47  1]\n",
      " [ 0 66]]\n",
      "\n",
      "Classification Report:\n",
      "               precision    recall  f1-score   support\n",
      "\n",
      "           0       1.00      0.98      0.99        48\n",
      "           1       0.99      1.00      0.99        66\n",
      "\n",
      "    accuracy                           0.99       114\n",
      "   macro avg       0.99      0.99      0.99       114\n",
      "weighted avg       0.99      0.99      0.99       114\n",
      "\n"
     ]
    }
   ],
   "source": [
    "print('For the Logistic Regression')\n",
    "print(\"Accuracy:\", accuracy_LR)\n",
    "print(\"\\nConfusion Matrix:\", confusion_LR)\n",
    "print(\"\\nClassification Report:\\n\", classification_rep_LR)"
   ]
  },
  {
   "cell_type": "code",
   "execution_count": 176,
   "id": "7af77b19",
   "metadata": {},
   "outputs": [
    {
     "name": "stdout",
     "output_type": "stream",
     "text": [
      "For the Gaussian NB\n",
      "Accuracy: 0.9210526315789473\n",
      "\n",
      "Confusion Matrix: [[43  5]\n",
      " [ 4 62]]\n",
      "\n",
      "Classification Report:\n",
      "               precision    recall  f1-score   support\n",
      "\n",
      "           0       0.91      0.90      0.91        48\n",
      "           1       0.93      0.94      0.93        66\n",
      "\n",
      "    accuracy                           0.92       114\n",
      "   macro avg       0.92      0.92      0.92       114\n",
      "weighted avg       0.92      0.92      0.92       114\n",
      "\n"
     ]
    }
   ],
   "source": [
    "print('For the Gaussian NB')\n",
    "print(\"Accuracy:\", accuracy_GNB)\n",
    "print(\"\\nConfusion Matrix:\", confusion_GNB)\n",
    "print(\"\\nClassification Report:\\n\", classification_rep_GNB)"
   ]
  },
  {
   "cell_type": "code",
   "execution_count": 177,
   "id": "802823db",
   "metadata": {},
   "outputs": [
    {
     "name": "stdout",
     "output_type": "stream",
     "text": [
      "Logistic Regression is better based on AUC-ROC.\n",
      "Result of the AUC-ROC\n",
      "AUC-ROC with Logistic Regression : 0.9895833333333333\n",
      "AUC-ROC with GaussianNB : 0.9176136363636365\n"
     ]
    }
   ],
   "source": [
    "label_binarizer = LabelBinarizer()\n",
    "y_test_one_hot = label_binarizer.fit_transform(y_test_2)\n",
    "\n",
    "# Assuming y_pred_logistic and y_pred_gnb are the predicted class labels (not probabilities) from Logistic Regression and GaussianNB models\n",
    "y_pred_logistic_one_hot = label_binarizer.transform(y_pred_LR)\n",
    "y_pred_gnb_one_hot = label_binarizer.transform(y_pred_GNB)\n",
    "\n",
    "roc_auc_logistic = roc_auc_score(y_test_one_hot, y_pred_logistic_one_hot, average='weighted')\n",
    "roc_auc_gnb = roc_auc_score(y_test_one_hot, y_pred_gnb_one_hot, average='weighted')\n",
    "\n",
    "if roc_auc_logistic > roc_auc_gnb:\n",
    "    print(\"Logistic Regression is better based on AUC-ROC.\")\n",
    "else:\n",
    "    print(\"Gaussian Naive Bayes is better based on AUC-ROC.\")\n",
    "    \n",
    "print('Result of the AUC-ROC')\n",
    "print(f\"AUC-ROC with Logistic Regression : {roc_auc_logistic}\")\n",
    "print(f\"AUC-ROC with GaussianNB : {roc_auc_gnb}\")"
   ]
  },
  {
   "cell_type": "code",
   "execution_count": 178,
   "id": "e6ef1a4d",
   "metadata": {},
   "outputs": [
    {
     "data": {
      "image/png": "[encoded data removed]",
      "text/plain": [
       "<Figure size 640x480 with 1 Axes>"
      ]
     },
     "metadata": {},
     "output_type": "display_data"
    }
   ],
   "source": [
    "plt.figure()\n",
    "plt.plot(fpr_LR, tpr_LR, color='darkorange', lw=1, label='ROC curve (area = %0.2f)' % roc_auc_LR)\n",
    "plt.plot([0, 1], [0, 1], color='navy', linestyle='--')\n",
    "plt.xlim([0.0, 1.0])\n",
    "plt.ylim([0.0, 1.05])\n",
    "plt.xlabel('False Positive Rate')\n",
    "plt.ylabel('True Positive Rate')\n",
    "plt.title('Receiver Operating Characteristic (ROC) Curve for Logistic Regression')\n",
    "plt.legend(loc=\"lower right\")\n",
    "plt.show()"
   ]
  },
  {
   "cell_type": "code",
   "execution_count": 179,
   "id": "04a57268",
   "metadata": {},
   "outputs": [
    {
     "data": {
      "image/png": "[encoded data removed]",
      "text/plain": [
       "<Figure size 640x480 with 1 Axes>"
      ]
     },
     "metadata": {},
     "output_type": "display_data"
    }
   ],
   "source": [
    "plt.figure()\n",
    "plt.plot(fpr_GNB, tpr_GNB, color='darkorange', lw=1, label='ROC curve (area = %0.2f)' % roc_auc_GNB)\n",
    "plt.plot([0, 1], [0, 1], color='navy', linestyle='--')\n",
    "plt.xlim([0.0, 1.0])\n",
    "plt.ylim([0.0, 1.05])\n",
    "plt.xlabel('False Positive Rate')\n",
    "plt.ylabel('True Positive Rate')\n",
    "plt.title('Receiver Operating Characteristic (ROC) Curve for Logistic Regression')\n",
    "plt.legend(loc=\"lower right\")\n",
    "plt.show()"
   ]
  }
 ],
 "metadata": {
  "kernelspec": {
   "display_name": "Python 3 (ipykernel)",
   "language": "python",
   "name": "python3"
  },
  "language_info": {
   "codemirror_mode": {
    "name": "ipython",
    "version": 3
   },
   "file_extension": ".py",
   "mimetype": "text/x-python",
   "name": "python",
   "nbconvert_exporter": "python",
   "pygments_lexer": "ipython3",
   "version": "3.10.11"
  }
 },
 "nbformat": 4,
 "nbformat_minor": 5
}
